{
 "cells": [
  {
   "cell_type": "code",
   "execution_count": 1,
   "metadata": {},
   "outputs": [],
   "source": [
    "from channels import Channel"
   ]
  },
  {
   "cell_type": "code",
   "execution_count": 2,
   "metadata": {},
   "outputs": [],
   "source": [
    "class Error(Exception):\n",
    "    \"\"\"Base class for exceptions in this module.\"\"\"\n",
    "    pass\n",
    "\n",
    "class InputError(Error):\n",
    "    \"\"\"Exception raised for errors in the input.\n",
    "\n",
    "    Attributes:\n",
    "        expression -- input expression in which the error occurred\n",
    "        message -- explanation of the error\n",
    "    \"\"\"\n",
    "\n",
    "    def __init__(self, expression, message):\n",
    "        self.expression = expression\n",
    "        self.message = message"
   ]
  },
  {
   "cell_type": "code",
   "execution_count": null,
   "metadata": {},
   "outputs": [],
   "source": []
  },
  {
   "cell_type": "code",
   "execution_count": 3,
   "metadata": {},
   "outputs": [],
   "source": [
    "from channels import BinarySymmetricChannel"
   ]
  },
  {
   "cell_type": "code",
   "execution_count": 4,
   "metadata": {},
   "outputs": [],
   "source": [
    "bsc = BinarySymmetricChannel()"
   ]
  },
  {
   "cell_type": "code",
   "execution_count": 5,
   "metadata": {},
   "outputs": [],
   "source": [
    "import numpy as np"
   ]
  },
  {
   "cell_type": "code",
   "execution_count": 6,
   "metadata": {},
   "outputs": [
    {
     "name": "stdout",
     "output_type": "stream",
     "text": [
      "[1. 1. 1. 1. 1.]\n"
     ]
    }
   ],
   "source": [
    "x = np.ones(5)\n",
    "print(x)"
   ]
  },
  {
   "cell_type": "code",
   "execution_count": 7,
   "metadata": {},
   "outputs": [
    {
     "name": "stdout",
     "output_type": "stream",
     "text": [
      "[0. 1. 1. 0. 0.]\n"
     ]
    }
   ],
   "source": [
    "y = bsc.dataIn(x)\n",
    "print(y)"
   ]
  },
  {
   "cell_type": "code",
   "execution_count": 8,
   "metadata": {},
   "outputs": [],
   "source": [
    "bsc2 = BinarySymmetricChannel(p=0.1)\n",
    "x2 = np.ones(1000)"
   ]
  },
  {
   "cell_type": "code",
   "execution_count": 9,
   "metadata": {},
   "outputs": [
    {
     "name": "stdout",
     "output_type": "stream",
     "text": [
      "0.103\n"
     ]
    }
   ],
   "source": [
    "bsc2.dataIn(x2)\n",
    "print(bsc2.errorRate())"
   ]
  },
  {
   "cell_type": "code",
   "execution_count": null,
   "metadata": {},
   "outputs": [],
   "source": []
  },
  {
   "cell_type": "code",
   "execution_count": 10,
   "metadata": {},
   "outputs": [],
   "source": [
    "from channels import MIMOChannelLOS"
   ]
  },
  {
   "cell_type": "code",
   "execution_count": 11,
   "metadata": {},
   "outputs": [
    {
     "name": "stdout",
     "output_type": "stream",
     "text": [
      "[[5.69143366e+12-1193000.j 5.69143366e+12-1193000.j\n",
      "  5.69143366e+12-1193000.j]\n",
      " [5.69143366e+12-1193000.j 5.69143366e+12-1241000.j\n",
      "  5.69143366e+12-1288000.j]\n",
      " [5.69143366e+12-1193000.j 5.69143366e+12-1288000.j\n",
      "  5.69143366e+12-1384000.j]]\n"
     ]
    }
   ],
   "source": [
    "ch = MIMOChannelLOS(3,3,2,1,10,1)\n",
    "print(np.around(ch.getChannel(), decimals=-3))"
   ]
  },
  {
   "cell_type": "code",
   "execution_count": 12,
   "metadata": {},
   "outputs": [
    {
     "data": {
      "text/plain": [
       "array([1.7074301e+13-3578508.86942768j, 1.7074301e+13-3721649.22420479j,\n",
       "       1.7074301e+13-3864789.57898189j])"
      ]
     },
     "execution_count": 12,
     "metadata": {},
     "output_type": "execute_result"
    }
   ],
   "source": [
    "x = np.ones(3)\n",
    "ch.dataIn(x)"
   ]
  },
  {
   "cell_type": "code",
   "execution_count": 13,
   "metadata": {},
   "outputs": [],
   "source": [
    "from channels import MIMOChannelUncorrelatedGaussian"
   ]
  },
  {
   "cell_type": "code",
   "execution_count": 14,
   "metadata": {},
   "outputs": [],
   "source": [
    "ch2 = MIMOChannelUncorrelatedGaussian(3,3)"
   ]
  },
  {
   "cell_type": "code",
   "execution_count": 15,
   "metadata": {},
   "outputs": [
    {
     "name": "stdout",
     "output_type": "stream",
     "text": [
      "[[1 2]\n",
      " [3 4]]\n"
     ]
    }
   ],
   "source": [
    "m = np.matrix([[1,2],[3,4]])\n",
    "print(m)"
   ]
  },
  {
   "cell_type": "code",
   "execution_count": 16,
   "metadata": {},
   "outputs": [
    {
     "data": {
      "text/plain": [
       "matrix([[1, 3, 2, 4]])"
      ]
     },
     "execution_count": 16,
     "metadata": {},
     "output_type": "execute_result"
    }
   ],
   "source": [
    "m.flatten('F')"
   ]
  },
  {
   "cell_type": "code",
   "execution_count": 17,
   "metadata": {},
   "outputs": [
    {
     "data": {
      "text/plain": [
       "matrix([[1, 2],\n",
       "        [3, 4]])"
      ]
     },
     "execution_count": 17,
     "metadata": {},
     "output_type": "execute_result"
    }
   ],
   "source": [
    "m.reshape(2,2)"
   ]
  },
  {
   "cell_type": "code",
   "execution_count": 18,
   "metadata": {},
   "outputs": [],
   "source": [
    "ch2 = MIMOChannelUncorrelatedGaussian(2,2)"
   ]
  },
  {
   "cell_type": "code",
   "execution_count": 19,
   "metadata": {},
   "outputs": [
    {
     "name": "stdout",
     "output_type": "stream",
     "text": [
      "[[ 0.52704366-0.66970764j -0.51790596+0.16161388j]\n",
      " [ 0.29829461+0.12743235j -0.00219703-0.63266761j]]\n"
     ]
    }
   ],
   "source": [
    "print(ch2.getChannel())"
   ]
  },
  {
   "cell_type": "code",
   "execution_count": 20,
   "metadata": {},
   "outputs": [
    {
     "name": "stdout",
     "output_type": "stream",
     "text": [
      "[[1.  0.  0.  0.2]\n",
      " [0.  1.  0.2 0. ]\n",
      " [0.  0.2 1.  0. ]\n",
      " [0.2 0.  0.  1. ]]\n"
     ]
    }
   ],
   "source": [
    "from channels import GeneralCorrelatedMIMOChannel\n",
    "R = np.matrix([[1,0,0,0.2], [0,1,0.2,0], [0, 0.2, 1, 0], [0.2, 0, 0, 1]])\n",
    "print(R)"
   ]
  },
  {
   "cell_type": "code",
   "execution_count": 21,
   "metadata": {},
   "outputs": [
    {
     "name": "stdout",
     "output_type": "stream",
     "text": [
      "[[ 0.10878569-0.14035815j  0.82546833+0.45657937j]\n",
      " [-0.15248383-0.52686746j -0.36447735+0.0215268j ]]\n"
     ]
    }
   ],
   "source": [
    "chCorr = GeneralCorrelatedMIMOChannel(2,2,R)\n",
    "print(chCorr.getChannel())"
   ]
  },
  {
   "cell_type": "code",
   "execution_count": 22,
   "metadata": {},
   "outputs": [],
   "source": [
    "from channels import KroneckerRayleighChannelMIMO"
   ]
  },
  {
   "cell_type": "code",
   "execution_count": 23,
   "metadata": {},
   "outputs": [
    {
     "name": "stdout",
     "output_type": "stream",
     "text": [
      "[[-0.65631658+0.0251716j  -0.55185846+1.25208533j]\n",
      " [-0.46503929+0.70143576j -0.11227241+0.51684797j]]\n"
     ]
    }
   ],
   "source": [
    "Rt = np.matrix([[1, 0.3], [0.3, 1]])\n",
    "Rr = np.matrix([[1, 0.1], [0.1, 1]])\n",
    "\n",
    "ch3 = KroneckerRayleighChannelMIMO(2,2, Rt, Rr)\n",
    "print(ch3.getChannel())"
   ]
  },
  {
   "cell_type": "code",
   "execution_count": 24,
   "metadata": {},
   "outputs": [
    {
     "name": "stdout",
     "output_type": "stream",
     "text": [
      "[[-2.06191989+0.25021767j]\n",
      " [-0.7096429 +0.5237036j ]]\n"
     ]
    }
   ],
   "source": [
    "Rt = np.array([[1]])\n",
    "Rr = np.array([[1,0],[0,1]])\n",
    "\n",
    "ch3 = KroneckerRayleighChannelMIMO(1,2, Rt, Rr)\n",
    "print(ch3.getChannel())"
   ]
  },
  {
   "cell_type": "code",
   "execution_count": 25,
   "metadata": {},
   "outputs": [],
   "source": [
    "from channels import PinholeChannelMIMO"
   ]
  },
  {
   "cell_type": "code",
   "execution_count": 26,
   "metadata": {},
   "outputs": [
    {
     "name": "stdout",
     "output_type": "stream",
     "text": [
      "[[ 0.49115031-0.63664093j -0.38751509-1.19073739j]\n",
      " [-0.16741872-0.32957935j -0.57089877-0.07408897j]]\n"
     ]
    }
   ],
   "source": [
    "ch4 = PinholeChannelMIMO(2,2)\n",
    "print(ch4.getChannel())"
   ]
  },
  {
   "cell_type": "code",
   "execution_count": 27,
   "metadata": {},
   "outputs": [],
   "source": [
    "from channels import RayleighLOSChannelMIMO"
   ]
  },
  {
   "cell_type": "code",
   "execution_count": 28,
   "metadata": {},
   "outputs": [
    {
     "name": "stdout",
     "output_type": "stream",
     "text": [
      "[[46470.28490051-97.06449262j 46469.96208921-97.44465183j]\n",
      " [46470.06611131-97.24596511j 46470.12836729-98.69642756j]]\n"
     ]
    }
   ],
   "source": [
    "ch5 = RayleighLOSChannelMIMO(2,2,10,25,100,1000, 2)\n",
    "\n",
    "print(ch5.getChannel())"
   ]
  },
  {
   "cell_type": "code",
   "execution_count": 29,
   "metadata": {},
   "outputs": [],
   "source": [
    "from symbols import SymbolGenerator"
   ]
  },
  {
   "cell_type": "code",
   "execution_count": 30,
   "metadata": {},
   "outputs": [],
   "source": [
    "generator = SymbolGenerator(symbols='8QAM')"
   ]
  },
  {
   "cell_type": "code",
   "execution_count": 31,
   "metadata": {},
   "outputs": [
    {
     "name": "stdout",
     "output_type": "stream",
     "text": [
      "[ 2.73205081+0.j          1.        +1.j         -1.        +1.j\n",
      "  0.        -2.73205081j  0.        -2.73205081j]\n"
     ]
    }
   ],
   "source": [
    "print(generator.generate(5))"
   ]
  },
  {
   "cell_type": "code",
   "execution_count": 32,
   "metadata": {},
   "outputs": [
    {
     "name": "stdout",
     "output_type": "stream",
     "text": [
      "shape =  (1, 20)\n",
      "H =  [[0.80336667-0.57465745j]\n",
      " [1.93551162+0.72709591j]]\n",
      "s =  [[-1.-1.j  1.-1.j  1.-1.j  1.-1.j -1.-1.j  1.+1.j  1.+1.j -1.-1.j -1.+1.j\n",
      "  -1.+1.j  1.-1.j  1.+1.j -1.-1.j -1.+1.j  1.-1.j  1.-1.j -1.-1.j -1.+1.j\n",
      "  -1.+1.j  1.+1.j]]\n",
      "y =  [[-1.37802412-0.22870923j  0.22870923-1.37802412j  0.22870923-1.37802412j\n",
      "   0.22870923-1.37802412j -1.37802412-0.22870923j  1.37802412+0.22870923j\n",
      "   1.37802412+0.22870923j -1.37802412-0.22870923j -0.22870923+1.37802412j\n",
      "  -0.22870923+1.37802412j  0.22870923-1.37802412j  1.37802412+0.22870923j\n",
      "  -1.37802412-0.22870923j -0.22870923+1.37802412j  0.22870923-1.37802412j\n",
      "   0.22870923-1.37802412j -1.37802412-0.22870923j -0.22870923+1.37802412j\n",
      "  -0.22870923+1.37802412j  1.37802412+0.22870923j]\n",
      " [-1.20841571-2.66260753j  2.66260753-1.20841571j  2.66260753-1.20841571j\n",
      "   2.66260753-1.20841571j -1.20841571-2.66260753j  1.20841571+2.66260753j\n",
      "   1.20841571+2.66260753j -1.20841571-2.66260753j -2.66260753+1.20841571j\n",
      "  -2.66260753+1.20841571j  2.66260753-1.20841571j  1.20841571+2.66260753j\n",
      "  -1.20841571-2.66260753j -2.66260753+1.20841571j  2.66260753-1.20841571j\n",
      "   2.66260753-1.20841571j -1.20841571-2.66260753j -2.66260753+1.20841571j\n",
      "  -2.66260753+1.20841571j  1.20841571+2.66260753j]]\n"
     ]
    }
   ],
   "source": [
    "import cmath\n",
    "\n",
    "Rt = np.matrix([1])\n",
    "Rr = np.matrix([[1, 0.3], [0.3, 1]])\n",
    "Rr = np.identity(2)\n",
    "ch3 = KroneckerRayleighChannelMIMO(1,2, Rt, Rr)\n",
    "\n",
    "\n",
    "generator2 = SymbolGenerator(symbols = 'QPSK')\n",
    "s  = generator2.generate(20)\n",
    "s = s.reshape((1,-1))\n",
    "print('shape = ', s.shape)\n",
    "H = ch3.getChannel()\n",
    "\n",
    "print('H = ',H)\n",
    "print('s = ', s)\n",
    "print('y = ', ch3.dataIn(s))"
   ]
  },
  {
   "cell_type": "code",
   "execution_count": 33,
   "metadata": {},
   "outputs": [
    {
     "name": "stdout",
     "output_type": "stream",
     "text": [
      "[[0.80336667+0.57465745j]\n",
      " [1.93551162-0.72709591j]]\n",
      "r =  [[-1.37802412-0.22870923j  0.22870923-1.37802412j  0.22870923-1.37802412j\n",
      "   0.22870923-1.37802412j -1.37802412-0.22870923j  1.37802412+0.22870923j\n",
      "   1.37802412+0.22870923j -1.37802412-0.22870923j -0.22870923+1.37802412j\n",
      "  -0.22870923+1.37802412j  0.22870923-1.37802412j  1.37802412+0.22870923j\n",
      "  -1.37802412-0.22870923j -0.22870923+1.37802412j  0.22870923-1.37802412j\n",
      "   0.22870923-1.37802412j -1.37802412-0.22870923j -0.22870923+1.37802412j\n",
      "  -0.22870923+1.37802412j  1.37802412+0.22870923j]\n",
      " [-1.20841571-2.66260753j  2.66260753-1.20841571j  2.66260753-1.20841571j\n",
      "   2.66260753-1.20841571j -1.20841571-2.66260753j  1.20841571+2.66260753j\n",
      "   1.20841571+2.66260753j -1.20841571-2.66260753j -2.66260753+1.20841571j\n",
      "  -2.66260753+1.20841571j  2.66260753-1.20841571j  1.20841571+2.66260753j\n",
      "  -1.20841571-2.66260753j -2.66260753+1.20841571j  2.66260753-1.20841571j\n",
      "   2.66260753-1.20841571j -1.20841571-2.66260753j -2.66260753+1.20841571j\n",
      "  -2.66260753+1.20841571j  1.20841571+2.66260753j]]\n",
      "rr =  [[-0.9756292 -0.9756292j   0.9756292 -0.9756292j   0.9756292 -0.9756292j\n",
      "   0.9756292 -0.9756292j  -0.9756292 -0.9756292j   0.9756292 +0.9756292j\n",
      "   0.9756292 +0.9756292j  -0.9756292 -0.9756292j  -0.9756292 +0.9756292j\n",
      "  -0.9756292 +0.9756292j   0.9756292 -0.9756292j   0.9756292 +0.9756292j\n",
      "  -0.9756292 -0.9756292j  -0.9756292 +0.9756292j   0.9756292 -0.9756292j\n",
      "   0.9756292 -0.9756292j  -0.9756292 -0.9756292j  -0.9756292 +0.9756292j\n",
      "  -0.9756292 +0.9756292j   0.9756292 +0.9756292j ]\n",
      " [-4.27487369-4.27487369j  4.27487369-4.27487369j  4.27487369-4.27487369j\n",
      "   4.27487369-4.27487369j -4.27487369-4.27487369j  4.27487369+4.27487369j\n",
      "   4.27487369+4.27487369j -4.27487369-4.27487369j -4.27487369+4.27487369j\n",
      "  -4.27487369+4.27487369j  4.27487369-4.27487369j  4.27487369+4.27487369j\n",
      "  -4.27487369-4.27487369j -4.27487369+4.27487369j  4.27487369-4.27487369j\n",
      "   4.27487369-4.27487369j -4.27487369-4.27487369j -4.27487369+4.27487369j\n",
      "  -4.27487369+4.27487369j  4.27487369+4.27487369j]]\n"
     ]
    }
   ],
   "source": [
    "HH = np.conj(H)\n",
    "print(HH)\n",
    "r = ch3.dataIn(s)\n",
    "rr = np.multiply(r,HH)\n",
    "\n",
    "print('r = ', r )\n",
    "print('rr = ', rr)"
   ]
  },
  {
   "cell_type": "code",
   "execution_count": 34,
   "metadata": {},
   "outputs": [],
   "source": [
    "from receivers import MMRC"
   ]
  },
  {
   "cell_type": "code",
   "execution_count": null,
   "metadata": {},
   "outputs": [],
   "source": []
  },
  {
   "cell_type": "code",
   "execution_count": null,
   "metadata": {},
   "outputs": [],
   "source": []
  },
  {
   "cell_type": "code",
   "execution_count": 35,
   "metadata": {},
   "outputs": [
    {
     "name": "stdout",
     "output_type": "stream",
     "text": [
      "[[-5.35450367-5.21940549j  5.23959088-4.94038576j  5.54748821-5.46559691j\n",
      "   5.72817058-5.35493943j -5.04729455-5.68848273j  5.1764526 +5.25367451j\n",
      "   5.24935026+5.14317977j -5.41190533-5.17810512j -5.0705464 +5.25467819j\n",
      "  -5.35304238+5.3247756j   5.41735316-5.42557184j  5.14073968+5.42468798j\n",
      "  -5.84891437-5.28046874j -5.19982662+5.14963534j  5.64061103-4.92148244j\n",
      "   5.37699449-5.18276473j -5.52571924-4.99144168j -5.59664672+5.48171186j\n",
      "  -5.0959662 +5.17718182j  5.03627176+5.81117798j]]\n"
     ]
    }
   ],
   "source": [
    "from channels import addComplexGaussianNoise\n",
    "mmrc = MMRC(2,ch3)\n",
    "rr = mmrc.receive(addComplexGaussianNoise(ch3.dataIn(s), variance=0.1))\n",
    "print(rr)"
   ]
  },
  {
   "cell_type": "code",
   "execution_count": 36,
   "metadata": {},
   "outputs": [
    {
     "data": {
      "text/plain": [
       "-0.7560150898553905"
      ]
     },
     "execution_count": 36,
     "metadata": {},
     "output_type": "execute_result"
    }
   ],
   "source": [
    "np.angle(np.asarray(rr).reshape(-1)[1])"
   ]
  },
  {
   "cell_type": "code",
   "execution_count": 37,
   "metadata": {},
   "outputs": [
    {
     "data": {
      "text/plain": [
       "-0.7853981633974483"
      ]
     },
     "execution_count": 37,
     "metadata": {},
     "output_type": "execute_result"
    }
   ],
   "source": [
    "np.angle(np.asarray(s[0,1]))"
   ]
  },
  {
   "cell_type": "code",
   "execution_count": 38,
   "metadata": {},
   "outputs": [
    {
     "name": "stdout",
     "output_type": "stream",
     "text": [
      "[ 0.78539816 -0.78539816  2.35619449 -2.35619449]\n",
      "(1,0) =>  0.0\n",
      "(0,1) =>  1.5707963267948966\n",
      "(-1,0) =>  3.141592653589793\n",
      "(0,-1) =>  -1.5707963267948966\n"
     ]
    }
   ],
   "source": [
    "symbols = np.zeros(4, dtype=complex)\n",
    "symbols[0] = complex(1,1)\n",
    "symbols[1] = complex(1, -1)\n",
    "symbols[2] = complex(-1,1)\n",
    "symbols[3] = complex(-1,-1)\n",
    "\n",
    "print(np.angle(symbols))\n",
    "print('(1,0) => ', np.angle(complex(1,0)))\n",
    "print('(0,1) => ', np.angle(complex(0,1)))\n",
    "print('(-1,0) => ', np.angle(complex(-1,0)))\n",
    "print('(0,-1) => ', np.angle(complex(0,-1)))"
   ]
  },
  {
   "cell_type": "code",
   "execution_count": 39,
   "metadata": {},
   "outputs": [],
   "source": [
    "from symbols import MLdecoder"
   ]
  },
  {
   "cell_type": "code",
   "execution_count": 40,
   "metadata": {},
   "outputs": [],
   "source": [
    "decoder = MLdecoder('QPSK')"
   ]
  },
  {
   "cell_type": "code",
   "execution_count": 41,
   "metadata": {},
   "outputs": [
    {
     "name": "stdout",
     "output_type": "stream",
     "text": [
      "received:  [-5.35450367-5.21940549j  5.23959088-4.94038576j  5.54748821-5.46559691j\n",
      "  5.72817058-5.35493943j -5.04729455-5.68848273j  5.1764526 +5.25367451j\n",
      "  5.24935026+5.14317977j -5.41190533-5.17810512j -5.0705464 +5.25467819j\n",
      " -5.35304238+5.3247756j   5.41735316-5.42557184j  5.14073968+5.42468798j\n",
      " -5.84891437-5.28046874j -5.19982662+5.14963534j  5.64061103-4.92148244j\n",
      "  5.37699449-5.18276473j -5.52571924-4.99144168j -5.59664672+5.48171186j\n",
      " -5.0959662 +5.17718182j  5.03627176+5.81117798j]\n",
      "decoded:  [-1.-1.j  1.-1.j  1.-1.j  1.-1.j -1.-1.j  1.+1.j  1.+1.j -1.-1.j -1.+1.j\n",
      " -1.+1.j  1.-1.j  1.+1.j -1.-1.j -1.+1.j  1.-1.j  1.-1.j -1.-1.j -1.+1.j\n",
      " -1.+1.j  1.+1.j]\n",
      "sent:  [[-1.-1.j  1.-1.j  1.-1.j  1.-1.j -1.-1.j  1.+1.j  1.+1.j -1.-1.j -1.+1.j\n",
      "  -1.+1.j  1.-1.j  1.+1.j -1.-1.j -1.+1.j  1.-1.j  1.-1.j -1.-1.j -1.+1.j\n",
      "  -1.+1.j  1.+1.j]]\n"
     ]
    }
   ],
   "source": [
    "r1 =  np.asarray(rr).reshape(-1)\n",
    "print('received: ', r1)\n",
    "print('decoded: ', decoder.decode(r1))\n",
    "print('sent: ', s)"
   ]
  },
  {
   "cell_type": "code",
   "execution_count": 42,
   "metadata": {},
   "outputs": [],
   "source": [
    "from AntennaSelection import AntennaSelector"
   ]
  },
  {
   "cell_type": "code",
   "execution_count": 43,
   "metadata": {},
   "outputs": [],
   "source": [
    "from channels import calculateBER, calculateBERfast"
   ]
  },
  {
   "cell_type": "code",
   "execution_count": 44,
   "metadata": {},
   "outputs": [
    {
     "name": "stdout",
     "output_type": "stream",
     "text": [
      "[-10  -9  -8  -7  -6  -5  -4  -3  -2  -1   0   1   2   3   4   5   6   7\n",
      "   8   9  10  11  12  13  14  15  16  17  18  19]\n",
      "0 % done, time elapsed:  1 s\n",
      "3 % done, time elapsed:  1 s\n",
      "6 % done, time elapsed:  2 s\n",
      "10 % done, time elapsed:  3 s\n",
      "13 % done, time elapsed:  3 s\n",
      "16 % done, time elapsed:  4 s\n",
      "20 % done, time elapsed:  4 s\n",
      "23 % done, time elapsed:  5 s\n",
      "26 % done, time elapsed:  6 s\n",
      "30 % done, time elapsed:  6 s\n",
      "33 % done, time elapsed:  7 s\n",
      "36 % done, time elapsed:  7 s\n",
      "40 % done, time elapsed:  8 s\n",
      "43 % done, time elapsed:  9 s\n",
      "46 % done, time elapsed:  9 s\n",
      "50 % done, time elapsed:  10 s\n",
      "53 % done, time elapsed:  10 s\n",
      "56 % done, time elapsed:  11 s\n",
      "60 % done, time elapsed:  12 s\n",
      "63 % done, time elapsed:  12 s\n",
      "66 % done, time elapsed:  13 s\n",
      "70 % done, time elapsed:  13 s\n",
      "73 % done, time elapsed:  14 s\n",
      "76 % done, time elapsed:  15 s\n",
      "80 % done, time elapsed:  15 s\n",
      "83 % done, time elapsed:  16 s\n",
      "86 % done, time elapsed:  16 s\n",
      "90 % done, time elapsed:  17 s\n",
      "93 % done, time elapsed:  18 s\n",
      "96 % done, time elapsed:  18 s\n",
      "Total time elapsed: 18\n"
     ]
    }
   ],
   "source": [
    "snr = np.array(range(-10,20))\n",
    "print(snr)\n",
    "y = calculateBER(ch3, mmrc, decoder, generator2,snr,Nsymbols=10000, iterations = 10, verbose=True)"
   ]
  },
  {
   "cell_type": "code",
   "execution_count": 45,
   "metadata": {},
   "outputs": [
    {
     "data": {
      "image/png": "[encoded data removed]",
      "text/plain": [
       "<Figure size 1440x1080 with 1 Axes>"
      ]
     },
     "metadata": {},
     "output_type": "display_data"
    }
   ],
   "source": [
    "%matplotlib inline\n",
    "import matplotlib.pyplot as plt\n",
    "\n",
    "plt.figure(figsize=(20,15))\n",
    "plt.semilogy(snr,y)\n",
    "\n",
    "plt.grid(b=True, which='major')\n",
    "plt.grid(b=True, which='minor')"
   ]
  },
  {
   "cell_type": "code",
   "execution_count": 46,
   "metadata": {},
   "outputs": [
    {
     "name": "stdout",
     "output_type": "stream",
     "text": [
      "[-10  -9  -8  -7  -6  -5  -4  -3  -2  -1   0   1   2   3   4   5   6   7\n",
      "   8   9  10  11  12  13  14  15  16  17  18  19]\n",
      "30  threads will be created\n",
      "Only the first thread will report it's state\n",
      "Thread   0:   0% done\n",
      "Thread   0:  10% done, elapsed time: 1s, expected time to completion: 109s\n",
      "Thread   0:  20% done, elapsed time: 3s, expected time to completion: 115s\n",
      "Thread   0:  30% done, elapsed time: 4s, expected time to completion: 95s\n",
      "Thread   0:  40% done, elapsed time: 6s, expected time to completion: 81s\n",
      "Thread   0:  50% done, elapsed time: 7s, expected time to completion: 66s\n",
      "Thread   0:  60% done, elapsed time: 8s, expected time to completion: 52s\n",
      "Thread   0:  70% done, elapsed time: 10s, expected time to completion: 42s\n",
      "Thread   0:  80% done, elapsed time: 11s, expected time to completion: 25s\n",
      "Thread   0:  90% done, elapsed time: 12s, expected time to completion: 14s\n",
      "Thread  0  finished, elapsed time:  12 s\n"
     ]
    }
   ],
   "source": [
    "snr = np.array(range(-10,20))\n",
    "print(snr)\n",
    "y = calculateBERfast(ch3, mmrc, decoder, generator2,snr,Nsymbols=10000,iterations = 10, verbose=True)"
   ]
  },
  {
   "cell_type": "code",
   "execution_count": 47,
   "metadata": {},
   "outputs": [
    {
     "data": {
      "image/png": "[encoded data removed]",
      "text/plain": [
       "<Figure size 1440x1080 with 1 Axes>"
      ]
     },
     "metadata": {},
     "output_type": "display_data"
    }
   ],
   "source": [
    "plt.figure(figsize=(20,15))\n",
    "plt.semilogy(snr,y)\n",
    "\n",
    "plt.grid(b=True, which='major')\n",
    "plt.grid(b=True, which='minor')"
   ]
  },
  {
   "cell_type": "code",
   "execution_count": 48,
   "metadata": {},
   "outputs": [
    {
     "name": "stdout",
     "output_type": "stream",
     "text": [
      "30  threads will be created\n",
      "Only the first thread will report it's state\n",
      "Thread   0:   0% done\n",
      "Thread   0:  10% done, elapsed time: 1s, expected time to completion: 65s\n",
      "Thread   0:  20% done, elapsed time: 2s, expected time to completion: 101s\n",
      "Thread   0:  30% done, elapsed time: 4s, expected time to completion: 82s\n",
      "Thread   0:  40% done, elapsed time: 6s, expected time to completion: 121s\n",
      "Thread   0:  50% done, elapsed time: 8s, expected time to completion: 116s\n",
      "Thread   0:  60% done, elapsed time: 9s, expected time to completion: 56s\n",
      "Thread   0:  70% done, elapsed time: 11s, expected time to completion: 57s\n",
      "Thread   0:  80% done, elapsed time: 15s, expected time to completion: 65s\n",
      "Thread   0:  90% done, elapsed time: 17s, expected time to completion: 20s\n",
      "Thread  0  finished, elapsed time:  17 s\n"
     ]
    }
   ],
   "source": [
    "Rt = np.matrix([1])\n",
    "Rr = np.matrix([1])\n",
    "\n",
    "ch3 = KroneckerRayleighChannelMIMO(1,1, Rt, Rr)\n",
    "mmrcSingle = MMRC(1,ch3)\n",
    "                \n",
    "y2 = calculateBERfast(ch3, mmrcSingle, decoder, generator2,snr,Nsymbols=10000,iterations = 10, verbose=True)"
   ]
  },
  {
   "cell_type": "code",
   "execution_count": 49,
   "metadata": {},
   "outputs": [],
   "source": [
    "Rt = np.matrix([1])\n",
    "Rr = np.identity(5)\n",
    "\n",
    "ch3 = KroneckerRayleighChannelMIMO(1,5, Rt, Rr)\n",
    "mmrc5 = MMRC(5,ch3)\n",
    "                \n"
   ]
  },
  {
   "cell_type": "code",
   "execution_count": 50,
   "metadata": {},
   "outputs": [
    {
     "name": "stdout",
     "output_type": "stream",
     "text": [
      "30  threads will be created\n",
      "Only the first thread will report it's state\n",
      "Thread   0:   0% done\n",
      "Thread   0:  10% done, elapsed time: 0s, expected time to completion: 7s\n",
      "Thread   0:  20% done, elapsed time: 0s, expected time to completion: 12s\n",
      "Thread   0:  30% done, elapsed time: 0s, expected time to completion: 10s\n",
      "Thread   0:  40% done, elapsed time: 1s, expected time to completion: 9s\n",
      "Thread   0:  50% done, elapsed time: 1s, expected time to completion: 7s\n",
      "Thread   0:  60% done, elapsed time: 1s, expected time to completion: 6s\n",
      "Thread   0:  70% done, elapsed time: 1s, expected time to completion: 5s\n",
      "Thread   0:  80% done, elapsed time: 1s, expected time to completion: 3s\n",
      "Thread   0:  90% done, elapsed time: 1s, expected time to completion: 2s\n",
      "Thread  0  finished, elapsed time:  1 s\n"
     ]
    }
   ],
   "source": [
    "y3 = calculateBERfast(ch3, mmrc5, decoder, generator2,snr,Nsymbols=1000,iterations = 10, verbose=True)"
   ]
  },
  {
   "cell_type": "code",
   "execution_count": 51,
   "metadata": {},
   "outputs": [
    {
     "data": {
      "image/png": "[encoded data removed]",
      "text/plain": [
       "<Figure size 1440x1080 with 1 Axes>"
      ]
     },
     "metadata": {},
     "output_type": "display_data"
    }
   ],
   "source": [
    "plt.figure(figsize=(20,15))\n",
    "\n",
    "single = plt.semilogy(snr,y2,linestyle='--',marker='o', color='b', label='Nr = 1')\n",
    "double = plt.semilogy(snr,y, linestyle='-.',marker='>', color='y', label='Nr = 2')\n",
    "quintuple = plt.semilogy(snr,y3,linestyle=':',marker='^', color='r', label = 'Nr = 5')\n",
    "plt.ylabel('BER')\n",
    "plt.xlabel('Eb/No')\n",
    "plt.legend(fontsize='xx-large')\n",
    "plt.grid(b=True, which='major')\n",
    "plt.grid(b=True, which='minor')"
   ]
  },
  {
   "cell_type": "code",
   "execution_count": 52,
   "metadata": {},
   "outputs": [
    {
     "name": "stdout",
     "output_type": "stream",
     "text": [
      "array:  [[1 2]\n",
      " [3 4]]\n",
      "sum:  [4 6]\n"
     ]
    }
   ],
   "source": [
    "n = np.array([[1,2],[3,4]])\n",
    "print('array: ', n)\n",
    "print('sum: ', np.sum(n, axis=0))"
   ]
  },
  {
   "cell_type": "code",
   "execution_count": 53,
   "metadata": {},
   "outputs": [
    {
     "name": "stdout",
     "output_type": "stream",
     "text": [
      "SAS:  1\n",
      "OAS:  1\n",
      "LROAS:  (1,)\n"
     ]
    }
   ],
   "source": [
    "n = np.array([[1,2],[3,4]])\n",
    "n2 = np.array([[0.1,0.1],[0.1,0.1]])\n",
    "AS = AntennaSelector(n,eveCh = n2)\n",
    "print('SAS: ',AS.SuboptimalAntennaSelection())\n",
    "print('OAS: ', AS.OptimalAntennaSelection())\n",
    "print('LROAS: ', AS.LinearReceiverOptimalAntennaSet())"
   ]
  },
  {
   "cell_type": "code",
   "execution_count": 54,
   "metadata": {},
   "outputs": [
    {
     "name": "stdout",
     "output_type": "stream",
     "text": [
      "True\n"
     ]
    }
   ],
   "source": [
    "print(isinstance(ch, Channel))"
   ]
  },
  {
   "cell_type": "code",
   "execution_count": 55,
   "metadata": {},
   "outputs": [
    {
     "data": {
      "text/plain": [
       "array([-1.77201966-2.66715958j, -2.02690507+1.51383018j,\n",
       "        0.74141455+2.8888168j , -0.88870899+0.54616579j,\n",
       "       -0.89668701-1.8247782j ,  0.8885328 -1.7204547j ,\n",
       "       -0.39674799-0.47216094j, -1.5842635 -3.82339576j,\n",
       "       -0.23400164+4.70190594j, -0.53535574-3.63940495j])"
      ]
     },
     "execution_count": 55,
     "metadata": {},
     "output_type": "execute_result"
    }
   ],
   "source": [
    "mu = 0\n",
    "variance = 2\n",
    "x = generator2.generate(10)\n",
    "x + np.array(np.random.normal(mu,variance,x.shape) + 1j*np.random.normal(mu,variance,x.shape),dtype=complex)"
   ]
  },
  {
   "cell_type": "code",
   "execution_count": 56,
   "metadata": {},
   "outputs": [
    {
     "data": {
      "text/plain": [
       "array([ 1.14810076-3.59158495j,  0.95895649-2.63017866j,\n",
       "       -0.01403487+0.2221806j ,  2.45924074+3.55010148j,\n",
       "       -0.62558377-1.57085544j,  1.00432901-3.30417465j,\n",
       "        3.27047735+0.08072084j, -0.68438331-0.96537761j,\n",
       "       -0.68884032+1.36918207j, -1.06094631+1.46102562j])"
      ]
     },
     "execution_count": 56,
     "metadata": {},
     "output_type": "execute_result"
    }
   ],
   "source": [
    "np.array(x,dtype=complex) + np.array(np.random.normal(mu,variance,x.shape) + 1j*np.random.normal(mu,variance,x.shape),dtype=complex)"
   ]
  },
  {
   "cell_type": "code",
   "execution_count": 57,
   "metadata": {},
   "outputs": [
    {
     "data": {
      "text/plain": [
       "array([-1.47352952+1.44325323j, -0.64278499+0.21257255j,\n",
       "       -0.7412859 +1.4221937j , -2.16696071+0.66954555j,\n",
       "       -0.63325529+1.68946383j,  1.99346845-0.97290325j,\n",
       "       -4.82755198+1.73712728j, -3.4802234 -0.9797414j ,\n",
       "        0.88202252+1.01640898j, -2.14890819-0.27458574j])"
      ]
     },
     "execution_count": 57,
     "metadata": {},
     "output_type": "execute_result"
    }
   ],
   "source": [
    "np.array(np.random.normal(mu,variance,x.shape) + 1j*np.random.normal(mu,variance,x.shape),dtype=complex)"
   ]
  },
  {
   "cell_type": "code",
   "execution_count": 89,
   "metadata": {},
   "outputs": [],
   "source": [
    "def generateOASdata(n,nt=1,nr=1,Rr=None,Rt=None):\n",
    "    X = np.zeros((n,nt*nr*2), dtype=complex)\n",
    "    y = np.zeros(n)\n",
    "    \n",
    "    if(Rr is None):\n",
    "        Rr = np.identity(nr)\n",
    "    if(Rt is None):\n",
    "        Rt = np.identity(nt)\n",
    "    for i in range(n):\n",
    "        chU =  KroneckerRayleighChannelMIMO(nt,nr,Rt,Rr)\n",
    "        chEve = KroneckerRayleighChannelMIMO(nt,nr,Rt,Rr)\n",
    "        AS = AntennaSelector(chU,chEve)\n",
    "        H1 = chU.getChannel().flatten()\n",
    "        H2 = chEve.getChannel().flatten()\n",
    "        H1 = H1.reshape(1,-1)\n",
    "        H2 = H2.reshape(1,-1)\n",
    "        X[i,:nt*nr] = H1\n",
    "        X[i,nt*nr:] = H2\n",
    "        y[i] = AS.OptimalAntennaSelection()\n",
    "    return X,y"
   ]
  },
  {
   "cell_type": "code",
   "execution_count": 88,
   "metadata": {},
   "outputs": [
    {
     "name": "stdout",
     "output_type": "stream",
     "text": [
      "(1, 2)\n",
      "(1, 2)\n",
      "(1, 2)\n",
      "(1, 2)\n",
      "(1, 2)\n",
      "(1, 2)\n",
      "(1, 2)\n",
      "(1, 2)\n",
      "(1, 2)\n",
      "(1, 2)\n"
     ]
    }
   ],
   "source": [
    "X,y = generateOASdata(10,1,2)"
   ]
  },
  {
   "cell_type": "code",
   "execution_count": 92,
   "metadata": {},
   "outputs": [
    {
     "name": "stdout",
     "output_type": "stream",
     "text": [
      "(10, 4)\n",
      "[-0.38490642+1.73184064j  0.7424001 +0.45802652j  1.17822224-0.36621444j\n",
      " -0.16824706+0.29867202j]\n",
      "0.0\n"
     ]
    }
   ],
   "source": [
    "print(X.shape)\n",
    "print(X[1,:])\n",
    "print(y[1])"
   ]
  },
  {
   "cell_type": "code",
   "execution_count": 112,
   "metadata": {},
   "outputs": [],
   "source": [
    "from sklearn.base import BaseEstimator, TransformerMixin\n",
    "\n",
    "class MakeReal(BaseEstimator, TransformerMixin):\n",
    "    def __init__(self, RealPart = True, ImaginaryPart=True, magnitude = False, Phase = False):\n",
    "        self.real = RealPart\n",
    "        self.imag = ImaginaryPart\n",
    "        self.magnitude = magnitude\n",
    "        self.phase = Phase\n",
    "    def fit(self,X, y = None):\n",
    "        return self\n",
    "    def transform(self,X,y=None):\n",
    "        c = 0\n",
    "        if(self.real == True):\n",
    "            c += 1\n",
    "        if(self.imag == True):\n",
    "            c += 1\n",
    "        if(self.magnitude == True):\n",
    "            c += 1\n",
    "        if(self.phase == True):\n",
    "            c += 1\n",
    "        \n",
    "        s = X.shape\n",
    "        X_transformed = np.zeros((s[0], c*s[1]))\n",
    "        print(X_transformed.shape)\n",
    "        for i in range(s[1]):\n",
    "            k = 0\n",
    "            if(self.real == True):\n",
    "                X_transformed[:,c*i + k] = np.real(X[:,i])\n",
    "                k+= 1\n",
    "            if(self.imag == True):\n",
    "                X_transformed[:,c*i+k] = np.imag(X[:,i])\n",
    "                k+= 1\n",
    "            if(self.magnitude == True):\n",
    "                X_transformed[:,c*i+k] = np.absolute(X[:,i])\n",
    "                k += 1\n",
    "            if(self.phase == True):\n",
    "                X_transformed[:,c*i+k] = np.angle(X[:,i])\n",
    "                k += 1\n",
    "        \n",
    "        return X_transformed"
   ]
  },
  {
   "cell_type": "code",
   "execution_count": 114,
   "metadata": {},
   "outputs": [
    {
     "name": "stdout",
     "output_type": "stream",
     "text": [
      "(1, 8)\n"
     ]
    },
    {
     "data": {
      "text/plain": [
       "array([[-0.38490642,  1.73184064,  0.7424001 ,  0.45802652,  1.17822224,\n",
       "        -0.36621444, -0.16824706,  0.29867202]])"
      ]
     },
     "execution_count": 114,
     "metadata": {},
     "output_type": "execute_result"
    }
   ],
   "source": [
    "mr = MakeReal()\n",
    "mr.transform(X[1:2,:])"
   ]
  },
  {
   "cell_type": "code",
   "execution_count": 117,
   "metadata": {},
   "outputs": [],
   "source": [
    "from sklearn.pipeline import Pipeline\n",
    "from sklearn.preprocessing import StandardScaler\n",
    "\n",
    "data_prep_pipeline = Pipeline([\n",
    "    ('toReal', MakeReal()),\n",
    "    ('stdScaler', StandardScaler()),\n",
    "])"
   ]
  },
  {
   "cell_type": "code",
   "execution_count": 119,
   "metadata": {},
   "outputs": [
    {
     "name": "stdout",
     "output_type": "stream",
     "text": [
      "(10, 8)\n"
     ]
    }
   ],
   "source": [
    "X_train = data_prep_pipeline.fit(X)"
   ]
  },
  {
   "cell_type": "code",
   "execution_count": null,
   "metadata": {},
   "outputs": [],
   "source": []
  }
 ],
 "metadata": {
  "kernelspec": {
   "display_name": "Python 3",
   "language": "python",
   "name": "python3"
  },
  "language_info": {
   "codemirror_mode": {
    "name": "ipython",
    "version": 3
   },
   "file_extension": ".py",
   "mimetype": "text/x-python",
   "name": "python",
   "nbconvert_exporter": "python",
   "pygments_lexer": "ipython3",
   "version": "3.6.5"
  }
 },
 "nbformat": 4,
 "nbformat_minor": 2
}
