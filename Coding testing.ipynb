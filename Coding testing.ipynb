{
 "cells": [
  {
   "cell_type": "code",
   "execution_count": 1,
   "metadata": {},
   "outputs": [],
   "source": [
    "import numpy as np\n",
    "from coding import AlamoutiCoding\n",
    "from channels import KroneckerRayleighChannelMIMO, addComplexGaussianNoise\n",
    "from symbols import SymbolGenerator"
   ]
  },
  {
   "cell_type": "code",
   "execution_count": 2,
   "metadata": {},
   "outputs": [],
   "source": [
    "nt = 2\n",
    "nr = 20\n",
    "Rr = np.identity(nr)\n",
    "Rt = np.identity(nt)\n",
    "\n",
    "ch = KroneckerRayleighChannelMIMO(nt,nr,Rt,Rr)"
   ]
  },
  {
   "cell_type": "code",
   "execution_count": 3,
   "metadata": {},
   "outputs": [
    {
     "name": "stdout",
     "output_type": "stream",
     "text": [
      "[-1.+1.j -1.-1.j  1.-1.j ... -1.+1.j  1.-1.j -1.+1.j]\n"
     ]
    }
   ],
   "source": [
    "sg = SymbolGenerator('QPSK')\n",
    "x = sg.generate(40000)\n",
    "print(x)"
   ]
  },
  {
   "cell_type": "code",
   "execution_count": 4,
   "metadata": {},
   "outputs": [],
   "source": [
    "alamouti = AlamoutiCoding(20, ch, sg)"
   ]
  },
  {
   "cell_type": "code",
   "execution_count": 5,
   "metadata": {},
   "outputs": [],
   "source": [
    "y = alamouti.code(x)"
   ]
  },
  {
   "cell_type": "code",
   "execution_count": 6,
   "metadata": {},
   "outputs": [
    {
     "name": "stdout",
     "output_type": "stream",
     "text": [
      "82.74153205843703\n"
     ]
    }
   ],
   "source": [
    "H = ch.getChannel()\n",
    "H = np.absolute(H)\n",
    "H = np.square(H)\n",
    "K = np.sum(H)\n",
    "print(K)"
   ]
  },
  {
   "cell_type": "code",
   "execution_count": 7,
   "metadata": {},
   "outputs": [],
   "source": [
    "yy = alamouti.transmit(var=1, power=10)"
   ]
  },
  {
   "cell_type": "code",
   "execution_count": 8,
   "metadata": {},
   "outputs": [],
   "source": [
    "z = alamouti.receive()"
   ]
  },
  {
   "cell_type": "code",
   "execution_count": 9,
   "metadata": {},
   "outputs": [
    {
     "data": {
      "text/plain": [
       "array([-1.+1.j, -1.-1.j,  1.+1.j, ...,  1.+1.j,  1.+1.j,  1.+1.j])"
      ]
     },
     "execution_count": 9,
     "metadata": {},
     "output_type": "execute_result"
    }
   ],
   "source": [
    "alamouti.decode()"
   ]
  },
  {
   "cell_type": "code",
   "execution_count": 10,
   "metadata": {},
   "outputs": [
    {
     "name": "stdout",
     "output_type": "stream",
     "text": [
      "2.5e-05\n"
     ]
    }
   ],
   "source": [
    "alamouti.Errors()\n",
    "print(alamouti.error_rate)"
   ]
  },
  {
   "cell_type": "code",
   "execution_count": 12,
   "metadata": {},
   "outputs": [
    {
     "name": "stdout",
     "output_type": "stream",
     "text": [
      "(2, 2.5e-05)\n"
     ]
    }
   ],
   "source": [
    "alamouti.SendAndReceive(x)\n",
    "print(alamouti.Errors())"
   ]
  },
  {
   "cell_type": "code",
   "execution_count": null,
   "metadata": {},
   "outputs": [],
   "source": []
  }
 ],
 "metadata": {
  "kernelspec": {
   "display_name": "Python 3",
   "language": "python",
   "name": "python3"
  },
  "language_info": {
   "codemirror_mode": {
    "name": "ipython",
    "version": 3
   },
   "file_extension": ".py",
   "mimetype": "text/x-python",
   "name": "python",
   "nbconvert_exporter": "python",
   "pygments_lexer": "ipython3",
   "version": "3.6.5"
  }
 },
 "nbformat": 4,
 "nbformat_minor": 2
}
